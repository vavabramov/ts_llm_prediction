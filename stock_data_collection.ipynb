{
 "cells": [
  {
   "cell_type": "code",
   "execution_count": 1,
   "metadata": {},
   "outputs": [],
   "source": [
    "import pandas as pd\n",
    "import numpy as np\n",
    "from datetime import datetime, timedelta\n",
    "\n",
    "from polygon import RESTClient\n",
    "\n",
    "from tqdm import tqdm\n",
    "from dotenv import load_dotenv\n",
    "import os\n"
   ]
  },
  {
   "cell_type": "markdown",
   "metadata": {},
   "source": [
    "# Setup"
   ]
  },
  {
   "cell_type": "code",
   "execution_count": 2,
   "metadata": {},
   "outputs": [],
   "source": [
    "def get_intervals(start_date:str=None, end_date:str=None) -> list[tuple[str]]:\n",
    "    '''\n",
    "    Creates list of dateranges\n",
    "    '''\n",
    "    period_years, year_size = 10, 365\n",
    "    \n",
    "    if end_date is None:\n",
    "        end_date = datetime.now()\n",
    "        start_date = end_date-timedelta(days=period_years * year_size)\n",
    "    else:\n",
    "        start_date = datetime.strptime(start_date, \"%Y-%m-%d\")\n",
    "        end_date = datetime.strptime(end_date, \"%Y-%m-%d\")\n",
    "\n",
    "    datarange = pd.date_range(start=start_date, end=end_date)\n",
    "    intervals = [(datarange[i].strftime(\"%Y-%m-%d\"), datarange[i+year_size-1].strftime(\"%Y-%m-%d\")) for i in range(0, len(datarange)-year_size+1, year_size)]\n",
    "    return intervals\n",
    "\n",
    "\n",
    "def get_tickers():\n",
    "    url = 'https://en.wikipedia.org/wiki/List_of_S%26P_500_companies'\n",
    "    sp_500_wiki_info = pd.read_html(url, attrs={'id':'constituents'})[0]\n",
    "    sp_500_tickers = sp_500_wiki_info['Symbol'].to_list() + ['SPY']\n",
    "    return sp_500_tickers, sp_500_wiki_info\n",
    "\n"
   ]
  },
  {
   "cell_type": "code",
   "execution_count": 3,
   "metadata": {},
   "outputs": [],
   "source": [
    "load_dotenv()\n",
    "\n",
    "data_dir = 'data'\n",
    "\n",
    "# Data Range settings\n",
    "now, end_date = datetime.now(), datetime.now().strftime(\"%Y-%m-%d\")\n",
    "start_date = (now-timedelta(days= 10 * 365)).strftime(\"%Y-%m-%d\")\n",
    "\n",
    "sp_500_tickers, sp_500_wiki_info = get_tickers()\n",
    "\n",
    "# Polygon Client settings\n",
    "timespan = 'minute'\n",
    "multiplier = 30\n",
    "client = RESTClient(os.environ['PTOKEN'])"
   ]
  },
  {
   "cell_type": "markdown",
   "metadata": {},
   "source": [
    "# Data Collection"
   ]
  },
  {
   "cell_type": "code",
   "execution_count": 4,
   "metadata": {},
   "outputs": [],
   "source": [
    "def collect_tickers_history(tickers:list, interval:list, timespan:str, multiplier:int):\n",
    "\n",
    "    for ticker in tqdm(tickers):\n",
    "\n",
    "        result_file_name = f'{data_dir}/{ticker}_{multiplier}_{timespan}_stock_prices.csv'\n",
    "        \n",
    "        if os.path.isfile(result_file_name):\n",
    "            continue\n",
    "\n",
    "        batch = client.list_aggs(\n",
    "            ticker = ticker,\n",
    "            multiplier = multiplier,\n",
    "            timespan = timespan,\n",
    "            from_ = interval[0],\n",
    "            to = interval[1]\n",
    "            )\n",
    "        \n",
    "        batch_df = pd.DataFrame([_ for _ in batch])\n",
    "        batch_df['ticker'] = ticker\n",
    "        batch_df.to_csv(result_file_name, index=False)\n"
   ]
  },
  {
   "cell_type": "code",
   "execution_count": 5,
   "metadata": {},
   "outputs": [
    {
     "name": "stderr",
     "output_type": "stream",
     "text": [
      "  0%|          | 0/504 [00:00<?, ?it/s]"
     ]
    },
    {
     "name": "stderr",
     "output_type": "stream",
     "text": [
      "100%|██████████| 504/504 [4:07:19<00:00, 29.44s/it]  \n"
     ]
    }
   ],
   "source": [
    "collect_tickers_history(\n",
    "    tickers=sp_500_tickers, \n",
    "    interval=(start_date, end_date),\n",
    "    timespan = timespan, \n",
    "    multiplier = multiplier\n",
    "    )"
   ]
  },
  {
   "cell_type": "code",
   "execution_count": null,
   "metadata": {},
   "outputs": [],
   "source": []
  }
 ],
 "metadata": {
  "kernelspec": {
   "display_name": "thesis_env",
   "language": "python",
   "name": "python3"
  },
  "language_info": {
   "codemirror_mode": {
    "name": "ipython",
    "version": 3
   },
   "file_extension": ".py",
   "mimetype": "text/x-python",
   "name": "python",
   "nbconvert_exporter": "python",
   "pygments_lexer": "ipython3",
   "version": "3.11.4"
  }
 },
 "nbformat": 4,
 "nbformat_minor": 2
}

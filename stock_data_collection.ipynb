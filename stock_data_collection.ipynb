{
 "cells": [
  {
   "cell_type": "code",
   "execution_count": 15,
   "metadata": {},
   "outputs": [],
   "source": [
    "import pandas as pd\n",
    "import numpy as np\n",
    "from datetime import datetime, timedelta\n",
    "\n",
    "from polygon import RESTClient\n",
    "\n",
    "from tqdm import tqdm\n",
    "from dotenv import load_dotenv\n",
    "import os\n"
   ]
  },
  {
   "cell_type": "markdown",
   "metadata": {},
   "source": [
    "# Setup"
   ]
  },
  {
   "cell_type": "code",
   "execution_count": 16,
   "metadata": {},
   "outputs": [],
   "source": [
    "def get_intervals(start_date:str=None, end_date:str=None) -> list[tuple[str]]:\n",
    "    '''\n",
    "    Creates list of dateranges\n",
    "    '''\n",
    "    period_years, year_size = 10, 365\n",
    "    \n",
    "    if end_date is None:\n",
    "        end_date = datetime.now()\n",
    "        start_date = end_date-timedelta(days=period_years * year_size)\n",
    "    else:\n",
    "        start_date = datetime.strptime(start_date, \"%Y-%m-%d\")\n",
    "        end_date = datetime.strptime(end_date, \"%Y-%m-%d\")\n",
    "\n",
    "    datarange = pd.date_range(start=start_date, end=end_date)\n",
    "    intervals = [(datarange[i].strftime(\"%Y-%m-%d\"), datarange[i+year_size-1].strftime(\"%Y-%m-%d\")) for i in range(0, len(datarange)-year_size+1, year_size)]\n",
    "    return intervals\n",
    "\n",
    "\n",
    "def get_tickers():\n",
    "    url = 'https://en.wikipedia.org/wiki/List_of_S%26P_500_companies'\n",
    "    sp_500_wiki_info = pd.read_html(url, attrs={'id':'constituents'})[0]\n",
    "    sp_500_tickers = ['SPY'] + sp_500_wiki_info['Symbol'].to_list()\n",
    "    return sp_500_tickers, sp_500_wiki_info\n",
    "\n"
   ]
  },
  {
   "cell_type": "code",
   "execution_count": null,
   "metadata": {},
   "outputs": [],
   "source": [
    "load_dotenv()\n",
    "\n",
    "data_dir = 'data'\n",
    "\n",
    "# Data Range settings\n",
    "intervals = get_intervals(start_date=None, end_date=None)\n",
    "sp_500_tickers, sp_500_wiki_info = get_tickers()\n",
    "\n",
    "# Polygon Client settings\n",
    "timespan = 'minute'\n",
    "client = RESTClient(os.environ['PTOKEN'])"
   ]
  },
  {
   "cell_type": "code",
   "execution_count": 18,
   "metadata": {},
   "outputs": [
    {
     "data": {
      "text/plain": [
       "[('2020-03-21', '2021-03-20'),\n",
       " ('2021-03-21', '2022-03-20'),\n",
       " ('2022-03-21', '2023-03-20'),\n",
       " ('2023-03-21', '2024-03-19')]"
      ]
     },
     "execution_count": 18,
     "metadata": {},
     "output_type": "execute_result"
    }
   ],
   "source": [
    "intervals"
   ]
  },
  {
   "cell_type": "markdown",
   "metadata": {},
   "source": [
    "# Data Collection"
   ]
  },
  {
   "cell_type": "code",
   "execution_count": null,
   "metadata": {},
   "outputs": [
    {
     "name": "stderr",
     "output_type": "stream",
     "text": [
      "  0%|          | 0/2 [00:00<?, ?it/s]"
     ]
    },
    {
     "name": "stdout",
     "output_type": "stream",
     "text": [
      "('2020-03-21', '2021-03-20')\n"
     ]
    }
   ],
   "source": [
    "def collect_tickers_history(tickers:list, intervals:list):\n",
    "\n",
    "    for ticker in tqdm(tickers):\n",
    "        frames = []\n",
    "        for interval in intervals:\n",
    "            print(interval)\n",
    "            batch = client.list_aggs(\n",
    "                ticker = ticker,\n",
    "                multiplier = 1,\n",
    "                timespan = timespan,\n",
    "                from_ = interval[0],\n",
    "                to = interval[1]\n",
    "                )\n",
    "            batch_df = pd.DataFrame([_ for _ in batch])\n",
    "            frames.append(batch_df)\n",
    "\n",
    "        ticker_history_df = pd.concat(frames).drop_duplicates(ignore_index=True)\n",
    "        ticker_history_df['ticker'] = ticker\n",
    "        ticker_history_df.to_csv(f'{data_dir}/{ticker}_{timespan}_stock_prices.csv', index=False)\n",
    "\n",
    "\n",
    "collect_tickers_history(sp_500_tickers[:100], intervals)"
   ]
  }
 ],
 "metadata": {
  "kernelspec": {
   "display_name": "thesis_env",
   "language": "python",
   "name": "python3"
  },
  "language_info": {
   "codemirror_mode": {
    "name": "ipython",
    "version": 3
   },
   "file_extension": ".py",
   "mimetype": "text/x-python",
   "name": "python",
   "nbconvert_exporter": "python",
   "pygments_lexer": "ipython3",
   "version": "3.11.4"
  }
 },
 "nbformat": 4,
 "nbformat_minor": 2
}
